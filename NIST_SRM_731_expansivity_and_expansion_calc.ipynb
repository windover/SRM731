{
 "cells": [
  {
   "cell_type": "markdown",
   "metadata": {},
   "source": [
    "# NIST SRM 731\n",
    "### Date:  2019/06/27\n",
    "### Author:  Donald Windover\n",
    "\n",
    "## Functions for using the third-order splines provided in the Certificate of Analysis\n",
    "\n",
    "#####  Note:  This notebooks is provided as a means to calculate expansivity and expansion values for SRM 731, based on the third-order polynomial provided for Temperature values between 293 K and 640 K.  This notebook in no way supersedes the validity of the original Certificate of Analysis, and further, provided no more information, than is present within the original document."
   ]
  },
  {
   "cell_type": "markdown",
   "metadata": {},
   "source": [
    "### The NIST SRM 731 Certificate of Analysis can be found at:\n",
    "\n",
    "https://www-s.nist.gov/srmors/certificates/731L1.pdf"
   ]
  },
  {
   "cell_type": "markdown",
   "metadata": {},
   "source": [
    "#### Python packages loading:\n",
    "\n",
    "Here we import the numpy, scipy, and scipy.integrate packages used in calculations:\n",
    "\n",
    "```python\n",
    "import numpy as np\n",
    "import scipy as sp\n",
    "import scipy.integrate as integrate\n",
    "from IPython.display import display, Math\n",
    "```\n",
    "\n",
    "For numpy and scipy documentation, see:\n",
    "\n",
    "https://docs.scipy.org/doc/\n",
    "\n"
   ]
  },
  {
   "cell_type": "code",
   "execution_count": 1,
   "metadata": {
    "collapsed": true,
    "scrolled": true
   },
   "outputs": [],
   "source": [
    "import numpy as np\n",
    "import scipy as sp\n",
    "import scipy.integrate as integrate"
   ]
  },
  {
   "cell_type": "markdown",
   "metadata": {},
   "source": [
    "### Here we implement the 293<= T (in K) <= 640 third-order spline polynomial from the COA\n",
    "\n",
    "\\begin{equation}\n",
    "\\alpha = 0.8651 + 2.3569 \\times 10 ^{-2} \\dot T - 4.2277 \\times 10 ^{-5} \\dot T^2 + 2.5408 \\times 10^{-8} \\dot T^3\n",
    "\\end{equation}"
   ]
  },
  {
   "cell_type": "code",
   "execution_count": 2,
   "metadata": {
    "collapsed": true
   },
   "outputs": [],
   "source": [
    "def expansivity_high(Temp):\n",
    "    expansivity = (0.8651 + (2.3569e-2 * Temp) - (4.2277e-5 * Temp**2) + (2.5408e-8 * Temp**3))\n",
    "    return expansivity"
   ]
  },
  {
   "cell_type": "markdown",
   "metadata": {},
   "source": [
    "### We can reproduce the Expansivity values for the table on page 2 from the COA\n",
    "#### first, by putting in the temperatures in the table into an array"
   ]
  },
  {
   "cell_type": "code",
   "execution_count": 100,
   "metadata": {},
   "outputs": [
    {
     "name": "stdout",
     "output_type": "stream",
     "text": [
      "Temps (in K)\n",
      "293.0\n",
      "300.0\n",
      "320.0\n",
      "340.0\n",
      "360.0\n",
      "380.0\n",
      "400.0\n",
      "420.0\n",
      "440.0\n",
      "460.0\n",
      "480.0\n",
      "500.0\n",
      "520.0\n",
      "540.0\n",
      "560.0\n",
      "580.0\n",
      "600.0\n",
      "620.0\n",
      "640.0\n",
      "660.0\n",
      "680.0\n"
     ]
    }
   ],
   "source": [
    "print('Temps (in K)')\n",
    "Temp_chart = np.array([293, 300, 320, 340, 360, 380, 400, 420, 440, 460, 480, 500, 520, 540, 560, 580, 600, 620, 640, 660, 680],dtype=float)\n",
    "for i in np.arange(len(Temp_chart)):\n",
    "    print(Temp_chart[i])"
   ]
  },
  {
   "cell_type": "markdown",
   "metadata": {},
   "source": [
    "### and then, by using our third order polynomial function above to calculate expansivity at each temp, and round to two decimals...\n",
    "\n",
    "#### Breakdown of the python statement below:\n",
    "\n",
    "1. the first print statement provides the row information\n",
    "2. the for statement runs through each temperature\n",
    "3. the Expansivity is pulled from ln 2 and is calculated for each temperature, rounded to 2 decimal places\n",
    "4. the temperature and Expansivity are then printed"
   ]
  },
  {
   "cell_type": "code",
   "execution_count": 101,
   "metadata": {
    "scrolled": false
   },
   "outputs": [
    {
     "name": "stdout",
     "output_type": "stream",
     "text": [
      "Temp (in K) | Expansivity ( x 10-6) \n",
      "293.0         |  4.78\n",
      "300.0         |  4.82\n",
      "320.0         |  4.91\n",
      "340.0         |  4.99\n",
      "360.0         |  5.06\n",
      "380.0         |  5.11\n",
      "400.0         |  5.15\n",
      "420.0         |  5.19\n",
      "440.0         |  5.21\n",
      "460.0         |  5.23\n",
      "480.0         |  5.25\n",
      "500.0         |  5.26\n",
      "520.0         |  5.26\n",
      "540.0         |  5.27\n",
      "560.0         |  5.27\n",
      "580.0         |  5.27\n",
      "600.0         |  5.27\n",
      "620.0         |  5.28\n",
      "640.0         |  5.29\n",
      "660.0         |  5.31\n",
      "680.0         |  5.33\n"
     ]
    }
   ],
   "source": [
    "print(\"Temp (in K) | Expansivity ( x 10-6) \")\n",
    "for i in np.arange(len(Temp_chart)):\n",
    "    Expansivity = np.round(expansivity_high(Temp_chart[i]), decimals = 2)\n",
    "    print(Temp_chart[i],\"        | \", Expansivity)"
   ]
  },
  {
   "cell_type": "markdown",
   "metadata": {},
   "source": [
    "### We need to integrate the expansivity... Here is my personal view of integration"
   ]
  },
  {
   "cell_type": "markdown",
   "metadata": {},
   "source": [
    "\n",
    "![alt text][integration]\n",
    "\n",
    "[integration]: https://imgs.xkcd.com/comics/differentiation_and_integration.png \"https://imgs.xkcd.com/comics/differentiation_and_integration.png\"\n",
    "\n",
    "https://imgs.xkcd.com/comics/differentiation_and_integration.png"
   ]
  },
  {
   "cell_type": "markdown",
   "metadata": {},
   "source": [
    "### I chose to perform a simple numerical integration using scipy.\n",
    "see:  https://docs.scipy.org/doc/scipy/reference/tutorial/integrate.html\n",
    "\n",
    "We are using the relation between Expansivity and Expansion from the COA\n",
    "\n",
    "\\begin{equation}\n",
    "\\alpha \\dot dT = {{1} \\over {L_{293}}}dL\n",
    "\\end{equation}\n",
    "\n",
    "\\begin{equation}\n",
    "\\int_{293}^T \\alpha \\dot dT = \\int_{L_{293}}^L {{1}\\over{L_{293}}} dL = {{L - L_{293}} \\over {L_{293}}}\n",
    "\\end{equation}\n",
    "\n",
    "\n",
    "Breakdown of the python statement below:\n",
    "\n",
    "1. the first print statement provides the row information\n",
    "2. the for statement runs through each temperature\n",
    "3. the Expansivity is numerically integrated between 293 and Temp_chart value from the for-loop step to provide expansion\n",
    "4. the Expansion is rounded to 0 decimal places\n",
    "5. the Temperature and Expansion are printed"
   ]
  },
  {
   "cell_type": "code",
   "execution_count": 102,
   "metadata": {
    "scrolled": true
   },
   "outputs": [
    {
     "name": "stdout",
     "output_type": "stream",
     "text": [
      "Temp (in K) | Expansion[ Δ L/ L_293] x10-6\n",
      "293.0         |  0.0\n",
      "300.0         |  34.0\n",
      "320.0         |  131.0\n",
      "340.0         |  230.0\n",
      "360.0         |  330.0\n",
      "380.0         |  432.0\n",
      "400.0         |  535.0\n",
      "420.0         |  638.0\n",
      "440.0         |  742.0\n",
      "460.0         |  847.0\n",
      "480.0         |  952.0\n",
      "500.0         |  1057.0\n",
      "520.0         |  1162.0\n",
      "540.0         |  1267.0\n",
      "560.0         |  1372.0\n",
      "580.0         |  1478.0\n",
      "600.0         |  1583.0\n",
      "620.0         |  1689.0\n",
      "640.0         |  1795.0\n",
      "660.0         |  1901.0\n",
      "680.0         |  2007.0\n"
     ]
    }
   ],
   "source": [
    "print('Temp (in K) | Expansion[ \\u0394 L/ L_293] x10-6')\n",
    "for i in np.arange(len(Temp_chart)):\n",
    "    Expansion = integrate.quad (lambda x: expansivity_high(x), Temp_chart[0],Temp_chart[i])\n",
    "    Expansion = np.round(Expansion[0], decimals = 0)\n",
    "    print(Temp_chart[i],\"        | \", Expansion)"
   ]
  },
  {
   "cell_type": "markdown",
   "metadata": {},
   "source": [
    "### But since Expansivity is modeled as a polynomial, we can just do integration on each polynomial term\n",
    "\n",
    "#### increasing the power by one and dividing by the new power \n",
    "\n",
    "\n",
    "\\begin{equation}\n",
    "\\int \\alpha \\dot dT = \\int 0.8651 + 2.3569 \\times 10 ^{-2} \\dot T - 4.2277 \\times 10 ^{-5} \\dot T^2 + 2.5408 \\times 10^{-8} \\dot T^3 \\dot dT\n",
    "\\end{equation}\n",
    "\n",
    "\n",
    "\\begin{equation}\n",
    "\\int \\alpha \\dot dT = 0.8651 \\dot (T) + 2.3569 \\times 10 ^{-2} \\dot (T^2/2) - 4.2277 \\times 10 ^{-5} \\dot (T^3/3) + 2.5408 \\times 10^{-8} \\dot (T^4/4)\n",
    "\\end{equation}"
   ]
  },
  {
   "cell_type": "code",
   "execution_count": 103,
   "metadata": {},
   "outputs": [],
   "source": [
    "def expansion_high(Temp):\n",
    "    const_a = 0.8651\n",
    "    const_b = 2.3569e-2\n",
    "    const_c = -4.2277e-5\n",
    "    const_d = 2.5408e-8\n",
    "    expansion =  const_a*Temp + const_b * Temp**2/2 + const_c *Temp**3/3 + const_d * Temp**4/4\n",
    "    return expansion"
   ]
  },
  {
   "cell_type": "code",
   "execution_count": 104,
   "metadata": {},
   "outputs": [
    {
     "name": "stdout",
     "output_type": "stream",
     "text": [
      "Temp (in K) | Expansion[Δ L/ L293]  x10-6 \n",
      "293.0         |  0.0\n",
      "300.0         |  34.0\n",
      "320.0         |  131.0\n",
      "340.0         |  230.0\n",
      "360.0         |  330.0\n",
      "380.0         |  432.0\n",
      "400.0         |  535.0\n",
      "420.0         |  638.0\n",
      "440.0         |  742.0\n",
      "460.0         |  847.0\n",
      "480.0         |  952.0\n",
      "500.0         |  1057.0\n",
      "520.0         |  1162.0\n",
      "540.0         |  1267.0\n",
      "560.0         |  1372.0\n",
      "580.0         |  1478.0\n",
      "600.0         |  1583.0\n",
      "620.0         |  1689.0\n",
      "640.0         |  1795.0\n",
      "660.0         |  1901.0\n",
      "680.0         |  2007.0\n"
     ]
    }
   ],
   "source": [
    "print('Temp (in K) | Expansion[\\u0394 L/ L293]  x10-6 ')\n",
    "for i in np.arange(len(Temp_chart)):\n",
    "    #Expansion = integrate.quad (lambda x: expansivity_high(x), Temp_chart[0],Temp_chart[i])\n",
    "    Expansion = expansion_high(Temp_chart[i]) - expansion_high(Temp_chart[0])\n",
    "    Expansion = np.round(Expansion, decimals = 0)\n",
    "    print(Temp_chart[i],'        | ', Expansion)"
   ]
  },
  {
   "cell_type": "markdown",
   "metadata": {},
   "source": [
    "### Both methods of integration match in results!\n",
    "\n",
    "#### we see a slight variation of 1ppm at 640 and 660 from tabulated values, but I am guessing we are seeing a rounding error from calculations performed in the 1970s."
   ]
  },
  {
   "cell_type": "markdown",
   "metadata": {},
   "source": [
    "### Now, lets check the values you needed calculated....\n",
    "\n",
    "#### We make a new table of temperatures in $^{\\circ}$C, and then convert them to K\n",
    "\n",
    "````python\n",
    "Temp_of_interest_in_C = [30, 50, 80, 300]\n",
    "Temp_of_interest_in_K = Temp_of_interest_in_C + 273.15\n",
    "````"
   ]
  },
  {
   "cell_type": "code",
   "execution_count": 8,
   "metadata": {},
   "outputs": [
    {
     "name": "stdout",
     "output_type": "stream",
     "text": [
      "Temperature (in K) =  [ 303.15  323.15  353.15  573.15]\n"
     ]
    }
   ],
   "source": [
    "Temp_of_interest_in_C = [30, 50, 80, 300]\n",
    "Temp_of_interest_in_K = np.array(Temp_of_interest_in_C) + 273.15\n",
    "print(\"Temperature (in K) = \", Temp_of_interest_in_K)"
   ]
  },
  {
   "cell_type": "markdown",
   "metadata": {},
   "source": [
    "#### We then run the expansivity calculations between 300 $^{\\circ}$C and any requested temperatures.\n",
    "\n",
    "Breakdown of the python statement below:\n",
    "\n",
    "1. the first print statement provides the row information\n",
    "2. the for statement runs through each temperature\n",
    "3. the Expansivity is called for each temp\n",
    "4. the Expansivity is rounded to 2 decimal places\n",
    "5. the Temperature and Expansivity are printed"
   ]
  },
  {
   "cell_type": "code",
   "execution_count": 9,
   "metadata": {},
   "outputs": [
    {
     "name": "stdout",
     "output_type": "stream",
     "text": [
      "Temperature (in K) | Expansivity [Temperature] x 10-6 \n",
      "303.15             |  4.83\n",
      "323.15             |  4.92\n",
      "353.15             |  5.03\n",
      "573.15             |  5.27\n"
     ]
    }
   ],
   "source": [
    "print(\"Temperature (in K) | Expansivity [Temperature] x 10-6 \")\n",
    "for i in np.arange(len(Temp_of_interest_in_K)):\n",
    "    Expansivity = expansivity_high(Temp_of_interest_in_K[i])\n",
    "    Expansivity = np.round(Expansivity, decimals = 2)\n",
    "    print(Temp_of_interest_in_K[i],  '            | ', Expansivity)"
   ]
  },
  {
   "cell_type": "markdown",
   "metadata": {},
   "source": [
    "#### We then run the expansion calculations between 300 $^{\\circ}$C and the lower values requested\n",
    "\n",
    "Breakdown of the python statement below:\n",
    "\n",
    "1. the first print statement provides the row information\n",
    "2. the for statement runs through each temperature\n",
    "3. the Expansion is called for each temp, and subtracted from expansion at 300 C\n",
    "4. the Expansion is rounded to 0 decimal places\n",
    "5. the Temperature and Expansion are printed"
   ]
  },
  {
   "cell_type": "code",
   "execution_count": 10,
   "metadata": {},
   "outputs": [
    {
     "name": "stdout",
     "output_type": "stream",
     "text": [
      "Expansion(573.15 (in K)) - Expansion(T (in K)) | Expansion[Δ L(Temperature)/ L₅₇₃] x 10⁻⁶ \n",
      "Expansion ( 573.15 ) - Expansion ( 303.15 )    |  1393.0\n",
      "Expansion ( 573.15 ) - Expansion ( 323.15 )    |  1295.0\n",
      "Expansion ( 573.15 ) - Expansion ( 353.15 )    |  1146.0\n",
      "Expansion ( 573.15 ) - Expansion ( 573.15 )    |  0.0\n"
     ]
    }
   ],
   "source": [
    "print(\"Expansion(573.15 (in K)) - Expansion(T (in K)) | Expansion[\\u0394 L(Temperature)/ L\\u2085\\u2087\\u2083] x 10\\u207B\\u2076 \")\n",
    "for i in np.arange(len(Temp_of_interest_in_K)):\n",
    "    Expansion = expansion_high(Temp_of_interest_in_K[-1]) - expansion_high(Temp_of_interest_in_K[i])\n",
    "    Expansion = np.round(Expansion, decimals = 0)\n",
    "    print(\"Expansion (\", Temp_of_interest_in_K[-1], \") - Expansion (\", Temp_of_interest_in_K[i], ')    | ', Expansion)"
   ]
  },
  {
   "cell_type": "markdown",
   "metadata": {
    "collapsed": true
   },
   "source": [
    "#### Feel free to change the temperatures in the \"Temp_of_interest\" section, in order to calculate expansions and expansivities for values not provided within the table (ONLY valid for T between 293 K and 640 K)."
   ]
  },
  {
   "cell_type": "code",
   "execution_count": null,
   "metadata": {
    "collapsed": true
   },
   "outputs": [],
   "source": []
  }
 ],
 "metadata": {
  "kernelspec": {
   "display_name": "Python 3",
   "language": "python",
   "name": "python3"
  },
  "language_info": {
   "codemirror_mode": {
    "name": "ipython",
    "version": 3
   },
   "file_extension": ".py",
   "mimetype": "text/x-python",
   "name": "python",
   "nbconvert_exporter": "python",
   "pygments_lexer": "ipython3",
   "version": "3.6.3"
  }
 },
 "nbformat": 4,
 "nbformat_minor": 2
}
