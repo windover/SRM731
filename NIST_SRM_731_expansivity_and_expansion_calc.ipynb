{
 "cells": [
  {
   "cell_type": "markdown",
   "metadata": {},
   "source": [
    "# NIST SRM 731\n",
    "### Date:  20190627\n",
    "### Author:  Donald Windover\n",
    "\n",
    "## Calculation using the third-order spline provided in the COA to re-create the data tables\n"
   ]
  },
  {
   "cell_type": "markdown",
   "metadata": {},
   "source": [
    "### The NIST SRM 731 Certificate of Analysis can be found at:\n",
    "\n",
    "https://www-s.nist.gov/srmors/certificates/731L1.pdf"
   ]
  },
  {
   "cell_type": "markdown",
   "metadata": {},
   "source": [
    "#### Python packages loading:\n",
    "\n",
    "Here we import the numpy, scipy, and scipy.integrate packages used in calculations:\n",
    "\n",
    "```python\n",
    "import numpy as np\n",
    "import scipy as sp\n",
    "import scipy.integrate as integrate\n",
    "```\n",
    "\n",
    "For numpy and scipy documentation, see:\n",
    "\n",
    "https://docs.scipy.org/doc/\n",
    "\n"
   ]
  },
  {
   "cell_type": "code",
   "execution_count": 1,
   "metadata": {
    "collapsed": true
   },
   "outputs": [],
   "source": [
    "import numpy as np\n",
    "import scipy as sp\n",
    "import scipy.integrate as integrate"
   ]
  },
  {
   "cell_type": "markdown",
   "metadata": {},
   "source": [
    "### Here we impliment the 293<= T <= 640 third-order spline polynomial from the COA\n",
    "\n",
    "\\begin{equation}\n",
    "\\alpha = 0.8651 + 2.3569 \\times 10 ^{-2} \\dot T - 4.2277 \\times 10 ^{-5} \\dot T^2 + 2.5408 \\times 10^{-8} \\dot T^3\n",
    "\\end{equation}"
   ]
  },
  {
   "cell_type": "code",
   "execution_count": 2,
   "metadata": {},
   "outputs": [],
   "source": [
    "def expansivity_high(Temp):\n",
    "    expansivity = (0.8651 + (2.3569e-2 * Temp) - (4.2277e-5 * Temp**2) + (2.5408e-8 * Temp**3))\n",
    "    return expansivity"
   ]
  },
  {
   "cell_type": "markdown",
   "metadata": {},
   "source": [
    "### We can reproduce the Expansivity values for the table on page 2 from the COA\n",
    "#### first, by putting in the Temperatures in the table..."
   ]
  },
  {
   "cell_type": "code",
   "execution_count": 3,
   "metadata": {},
   "outputs": [
    {
     "name": "stdout",
     "output_type": "stream",
     "text": [
      "293\n",
      "300\n",
      "320\n",
      "340\n",
      "360\n",
      "380\n",
      "400\n",
      "420\n",
      "440\n",
      "460\n",
      "480\n",
      "500\n",
      "520\n",
      "540\n",
      "560\n",
      "580\n",
      "600\n",
      "620\n",
      "640\n",
      "660\n",
      "680\n"
     ]
    }
   ],
   "source": [
    "Temp_chart = [293, 300, 320, 340, 360, 380, 400, 420, 440, 460, 480, 500, 520, 540, 560, 580, 600, 620, 640, 660, 680]\n",
    "for i in np.arange(len(Temp_chart)):\n",
    "    print(Temp_chart[i])"
   ]
  },
  {
   "cell_type": "markdown",
   "metadata": {},
   "source": [
    "### and then, by using our third order polynomial function above to calculate expansivity at each temp, and round to two decimals...\n",
    "\n",
    "#### Breakdown of the python statement below:\n",
    "\n",
    "1. the first print statment provides the row information\n",
    "2. the for statement runs through each temperature\n",
    "3. the Epansivity is pulled from ln 2 and is calculated for each temperature, rounded to 2 decimal places\n",
    "4. the temperatue and Expansivity are then printed"
   ]
  },
  {
   "cell_type": "code",
   "execution_count": 4,
   "metadata": {
    "scrolled": true
   },
   "outputs": [
    {
     "name": "stdout",
     "output_type": "stream",
     "text": [
      "Temp (K) / Expansivity (1x10-6) \n",
      "293 4.78\n",
      "300 4.82\n",
      "320 4.91\n",
      "340 4.99\n",
      "360 5.06\n",
      "380 5.11\n",
      "400 5.15\n",
      "420 5.19\n",
      "440 5.21\n",
      "460 5.23\n",
      "480 5.25\n",
      "500 5.26\n",
      "520 5.26\n",
      "540 5.27\n",
      "560 5.27\n",
      "580 5.27\n",
      "600 5.27\n",
      "620 5.28\n",
      "640 5.29\n",
      "660 5.31\n",
      "680 5.33\n"
     ]
    }
   ],
   "source": [
    "print(\"Temp (K) / Expansivity (1x10-6) \")\n",
    "for i in np.arange(len(Temp_chart)):\n",
    "    Expansivity = np.round(expansivity_high(Temp_chart[i]), decimals = 2)\n",
    "    print(Temp_chart[i], Expansivity)"
   ]
  },
  {
   "cell_type": "markdown",
   "metadata": {},
   "source": [
    "### We need to integrate the expansivity... Here is my view of intergration"
   ]
  },
  {
   "cell_type": "markdown",
   "metadata": {},
   "source": [
    "\n",
    "![alt text][integration]\n",
    "\n",
    "[integration]: https://imgs.xkcd.com/comics/differentiation_and_integration.png \"https://imgs.xkcd.com/comics/differentiation_and_integration.png\"\n",
    "\n",
    "https://imgs.xkcd.com/comics/differentiation_and_integration.png"
   ]
  },
  {
   "cell_type": "markdown",
   "metadata": {},
   "source": [
    "### I chose to perform a simple numerical integration using scipy.\n",
    "see:  https://docs.scipy.org/doc/scipy/reference/tutorial/integrate.html\n",
    "\n",
    "We are using the relation between Expansivity and Expansion from the COA\n",
    "\n",
    "\\begin{equation}\n",
    "\\alpha \\dot dT = {{1} \\over {L_{293}}}dL\n",
    "\\end{equation}\n",
    "\n",
    "\\begin{equation}\n",
    "\\int_{293}^T \\alpha \\dot dT = \\int_{L_{293}}^L {{1}\\over{L_{293}}} dL = {{L - L_{293}} \\over {L_{293}}}\n",
    "\\end{equation}\n",
    "\n",
    "\n",
    "Breakdown of the python statement below:\n",
    "\n",
    "1. the first print statment provides the row information\n",
    "2. the for statement runs through each temperature\n",
    "3. the Expansivity is numerically integrated between 293 and Temp_chart value from the for loop step to provide expansion\n",
    "4. the xpansion is rounded to 0 decimal places\n",
    "5. the Temperature and Expansion are printed"
   ]
  },
  {
   "cell_type": "code",
   "execution_count": 5,
   "metadata": {
    "scrolled": true
   },
   "outputs": [
    {
     "name": "stdout",
     "output_type": "stream",
     "text": [
      "Temp (K) / Expansion[Delta L/ L293] (1x10-6) \n",
      "293 0.0\n",
      "300 34.0\n",
      "320 131.0\n",
      "340 230.0\n",
      "360 330.0\n",
      "380 432.0\n",
      "400 535.0\n",
      "420 638.0\n",
      "440 742.0\n",
      "460 847.0\n",
      "480 952.0\n",
      "500 1057.0\n",
      "520 1162.0\n",
      "540 1267.0\n",
      "560 1372.0\n",
      "580 1478.0\n",
      "600 1583.0\n",
      "620 1689.0\n",
      "640 1795.0\n",
      "660 1901.0\n",
      "680 2007.0\n"
     ]
    }
   ],
   "source": [
    "print(\"Temp (K) / Expansion[Delta L/ L293] (1x10-6) \")\n",
    "for i in np.arange(len(Temp_chart)):\n",
    "    Expansion = integrate.quad (lambda x: expansivity_high(x), 293,Temp_chart[i])\n",
    "    Expansion = np.round(Expansion[0], decimals = 0)\n",
    "    print(Temp_chart[i], Expansion)"
   ]
  },
  {
   "cell_type": "markdown",
   "metadata": {},
   "source": [
    "### But since Expansivity is modeled as a polyomial, we can just do integration on each polynomial term\n",
    "\n",
    "#### increasing the power by one and dividing by the new power \n",
    "\n",
    "\n",
    "\\begin{equation}\n",
    "\\int \\alpha \\dot dT = \\int 0.8651 + 2.3569 \\times 10 ^{-2} \\dot T - 4.2277 \\times 10 ^{-5} \\dot T^2 + 2.5408 \\times 10^{-8} \\dot T^3 \\dot dT\n",
    "\\end{equation}\n",
    "\n",
    "\n",
    "\\begin{equation}\n",
    "\\int \\alpha \\dot dT = 0.8651 \\dot (T) + 2.3569 \\times 10 ^{-2} \\dot (T^2/2) - 4.2277 \\times 10 ^{-5} \\dot (T^3/3) + 2.5408 \\times 10^{-8} \\dot (T^4/4)\n",
    "\\end{equation}"
   ]
  },
  {
   "cell_type": "code",
   "execution_count": 6,
   "metadata": {
    "collapsed": true
   },
   "outputs": [],
   "source": [
    "def expansion_high(Temp):\n",
    "    expansion = (0.8651* Temp + (2.3569e-2 * Temp**2)/2 - (4.2277e-5 * Temp**3)/3 + (2.5408e-8 * Temp**4)/4)\n",
    "    return expansion"
   ]
  },
  {
   "cell_type": "code",
   "execution_count": 7,
   "metadata": {},
   "outputs": [
    {
     "name": "stdout",
     "output_type": "stream",
     "text": [
      "Temp (K) / Expansion[Delta L/ L293] (1x10-6) \n",
      "293 0.0\n",
      "300 34.0\n",
      "320 131.0\n",
      "340 230.0\n",
      "360 330.0\n",
      "380 432.0\n",
      "400 535.0\n",
      "420 638.0\n",
      "440 742.0\n",
      "460 847.0\n",
      "480 952.0\n",
      "500 1057.0\n",
      "520 1162.0\n",
      "540 1267.0\n",
      "560 1372.0\n",
      "580 1478.0\n",
      "600 1583.0\n",
      "620 1689.0\n",
      "640 1795.0\n",
      "660 1901.0\n",
      "680 2007.0\n"
     ]
    }
   ],
   "source": [
    "print(\"Temp (K) / Expansion[Delta L/ L293] (1x10-6) \")\n",
    "for i in np.arange(len(Temp_chart)):\n",
    "    Expansion = expansion_high(Temp_chart[i]) - expansion_high(Temp_chart[0])\n",
    "    print(Temp_chart[i], np.round(Expansion, decimals = 0))"
   ]
  },
  {
   "cell_type": "markdown",
   "metadata": {},
   "source": [
    "### Both methods of intergration check out nicely!\n",
    "\n",
    "#### we see a slight variaion fo 1ppm at 640 and 660 from tabulated values, but I am guessing we are seeing a rounding error from calculations performed in the 70s."
   ]
  },
  {
   "cell_type": "markdown",
   "metadata": {},
   "source": [
    "### Now, lets check the values you needed calculated....\n",
    "\n",
    "#### We make a new table of temperatures in degrees C, and then convert them to K\n",
    "\n",
    "````python\n",
    "Temp_of_interest_in_C = [30, 50, 80, 300]\n",
    "Temp_of_interest_in_K = Temp_of_interest_in_C + 273.15\n",
    "````"
   ]
  },
  {
   "cell_type": "code",
   "execution_count": 8,
   "metadata": {},
   "outputs": [
    {
     "name": "stdout",
     "output_type": "stream",
     "text": [
      "Temps:  [ 303.15  323.15  353.15  573.15]\n"
     ]
    }
   ],
   "source": [
    "Temp_of_interest_in_C = [30, 50, 80, 300]\n",
    "Temp_of_interest_in_K = np.array(Temp_of_interest_in_C) + 273.15\n",
    "print(\"Temps: \", Temp_of_interest_in_K)"
   ]
  },
  {
   "cell_type": "markdown",
   "metadata": {},
   "source": [
    "#### We then run the expansivity calculations between 300 C and the lower values requested\n",
    "\n",
    "Breakdown of the python statement below:\n",
    "\n",
    "1. the first print statment provides the row information\n",
    "2. the for statement runs through each temperature\n",
    "3. the Expansivity is called for each temp\n",
    "4. the Expansivity is rounded to 2 decimal places\n",
    "5. the Temperature and Expansivity are printed"
   ]
  },
  {
   "cell_type": "code",
   "execution_count": 9,
   "metadata": {},
   "outputs": [
    {
     "name": "stdout",
     "output_type": "stream",
     "text": [
      "T / Expansivity [T] (1x10-6) \n",
      "Expansivity ( 303.15 ) /  4.83\n",
      "Expansivity ( 323.15 ) /  4.92\n",
      "Expansivity ( 353.15 ) /  5.03\n",
      "Expansivity ( 573.15 ) /  5.27\n"
     ]
    }
   ],
   "source": [
    "print(\"T / Expansivity [T] (1x10-6) \")\n",
    "for i in np.arange(len(Temp_of_interest_in_K)):\n",
    "    Expansivity = expansivity_high(Temp_of_interest_in_K[i])\n",
    "    Expansivity = np.round(Expansivity, decimals = 2)\n",
    "    print(\"Expansivity (\", Temp_of_interest_in_K[i], \") / \", Expansivity)"
   ]
  },
  {
   "cell_type": "markdown",
   "metadata": {},
   "source": [
    "#### We then run the expansion calculations between 300 C and the lower values requested\n",
    "\n",
    "Breakdown of the python statement below:\n",
    "\n",
    "1. the first print statment provides the row information\n",
    "2. the for statement runs through each temperature\n",
    "3. the Expansion is called for each temp, and subtracted from expansion at 300 C\n",
    "4. the Expansion is rounded to 0 decimal places\n",
    "5. the Temperature and Expansion are printed"
   ]
  },
  {
   "cell_type": "code",
   "execution_count": 10,
   "metadata": {},
   "outputs": [
    {
     "name": "stdout",
     "output_type": "stream",
     "text": [
      "Expansion of (Temp (300C)  - Temp (in K)) / Expansion[Delta L_{T}/ L_{573.15}] (1x10-6) \n",
      "Expansion ( 573.15  -  303.15 ) /  1393.0\n",
      "Expansion ( 573.15  -  323.15 ) /  1295.0\n",
      "Expansion ( 573.15  -  353.15 ) /  1146.0\n",
      "Expansion ( 573.15  -  573.15 ) /  0.0\n"
     ]
    }
   ],
   "source": [
    "print(\"Expansion of (Temp (300C)  - Temp (in K)) / Expansion[Delta L_{T}/ L_{573.15}] (1x10-6) \")\n",
    "for i in np.arange(len(Temp_of_interest_in_K)):\n",
    "    Expansion = expansion_high(Temp_of_interest_in_K[-1]) - expansion_high(Temp_of_interest_in_K[i])\n",
    "    Expansion = np.round(Expansion, decimals = 0)\n",
    "    print(\"Expansion (\", Temp_of_interest_in_K[-1], \" - \", Temp_of_interest_in_K[i], ') / ', Expansion)"
   ]
  },
  {
   "cell_type": "markdown",
   "metadata": {},
   "source": [
    "What was wrong in both of our spreadsheet calculations, is that Expansivity is the expansion value at a given temperature.  You cannot just use the Expansivity at (T) as a constant over the range of temperatures.  Instead, we need to integrate expansivity to get at expansion.  When we did this, the equations matched results from the Expansion and expansivity tables in the COA."
   ]
  },
  {
   "cell_type": "code",
   "execution_count": null,
   "metadata": {
    "collapsed": true
   },
   "outputs": [],
   "source": []
  }
 ],
 "metadata": {
  "kernelspec": {
   "display_name": "Python 3",
   "language": "python",
   "name": "python3"
  },
  "language_info": {
   "codemirror_mode": {
    "name": "ipython",
    "version": 3
   },
   "file_extension": ".py",
   "mimetype": "text/x-python",
   "name": "python",
   "nbconvert_exporter": "python",
   "pygments_lexer": "ipython3",
   "version": "3.6.3"
  }
 },
 "nbformat": 4,
 "nbformat_minor": 2
}
